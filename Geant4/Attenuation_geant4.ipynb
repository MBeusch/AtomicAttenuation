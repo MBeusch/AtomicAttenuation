{
 "cells": [
  {
   "cell_type": "code",
   "execution_count": 1,
   "metadata": {},
   "outputs": [],
   "source": [
    "import sys\n",
    "sys.path.append('../NIST/')\n",
    "\n",
    "import numpy as np\n",
    "import matplotlib.pyplot as plt\n",
    "import uncertainties as un"
   ]
  },
  {
   "cell_type": "code",
   "execution_count": 2,
   "metadata": {},
   "outputs": [],
   "source": [
    "params = {\"text.usetex\": False, \"font.size\": 11, \"font.family\": 'serif', \"mathtext.fontset\": \"dejavuserif\"}\n",
    "plt.rcParams.update(params)\n",
    "\n",
    "def attenuationFactor(fep_counts, initial_photons):\n",
    "    return fep_counts/initial_photons"
   ]
  },
  {
   "cell_type": "code",
   "execution_count": 12,
   "metadata": {},
   "outputs": [],
   "source": [
    "folder     = 'Attenuation_Co_powder_10mm/Event_Histograms/'\n",
    "energy_sim = [1.0, 2.0]  #MeV\n",
    "det        = 0\n",
    "initial_photons = 200000\n",
    "MeV_to_keV = 1e3"
   ]
  },
  {
   "attachments": {},
   "cell_type": "markdown",
   "metadata": {},
   "source": [
    "### Extract data from file"
   ]
  },
  {
   "cell_type": "code",
   "execution_count": 13,
   "metadata": {},
   "outputs": [],
   "source": [
    "transmission = []\n",
    "for en in energy_sim:\n",
    "\n",
    "    data = np.loadtxt(f'{folder}attenuation_{en:.2f}_MeV_sim_0_hist_det{det}.txt', usecols=(0,1))  \n",
    "    energy = data.transpose()[0]   #MeV\n",
    "    counts = data.transpose()[1]  \n",
    "    fep_bin = int(en * MeV_to_keV) \n",
    "    fep_counts = data[fep_bin][1]   #+ data[fep_bin-1][1]\n",
    "    transmission.append(fep_counts)\n",
    "transmission = np.array(transmission)\n",
    "relAtt = attenuationFactor(transmission, initial_photons)"
   ]
  },
  {
   "cell_type": "code",
   "execution_count": 15,
   "metadata": {},
   "outputs": [
    {
     "data": {
      "text/plain": [
       "array([0.943425, 0.958815])"
      ]
     },
     "execution_count": 15,
     "metadata": {},
     "output_type": "execute_result"
    }
   ],
   "source": [
    "relAtt"
   ]
  },
  {
   "cell_type": "code",
   "execution_count": null,
   "metadata": {},
   "outputs": [],
   "source": []
  }
 ],
 "metadata": {
  "interpreter": {
   "hash": "e7370f93d1d0cde622a1f8e1c04877d8463912d04d973331ad4851f04de6915a"
  },
  "kernelspec": {
   "display_name": "Python 3.10.4 64-bit",
   "language": "python",
   "name": "python3"
  },
  "language_info": {
   "codemirror_mode": {
    "name": "ipython",
    "version": 3
   },
   "file_extension": ".py",
   "mimetype": "text/x-python",
   "name": "python",
   "nbconvert_exporter": "python",
   "pygments_lexer": "ipython3",
   "version": "3.10.8"
  }
 },
 "nbformat": 4,
 "nbformat_minor": 4
}
